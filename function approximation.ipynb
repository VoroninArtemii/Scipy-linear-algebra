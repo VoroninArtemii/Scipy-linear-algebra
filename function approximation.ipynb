{
 "cells": [
  {
   "cell_type": "code",
   "execution_count": 1,
   "id": "4e3e3f92",
   "metadata": {},
   "outputs": [],
   "source": [
    "from scipy.linalg import *\n",
    "from numpy import *\n",
    "x=array([[1, 1, 1, 1], [1, 4, 16, 64], [1, 10, 100, 1000], [1, 15, 225, 3375]])\n",
    "y=array([[3.25222], [1.74685], [2.50542], [0.63522]])\n",
    "ans=solve(x, y)\n",
    "file=open('function approximation.txt', 'w')\n",
    "ans=around(ans, decimals=2)\n",
    "t=0\n",
    "for i in ans:\n",
    "    file.write(str(float(i)))\n",
    "    if t!=3:\n",
    "        file.write(' ')\n",
    "    t=t+1\n",
    "file.close()"
   ]
  },
  {
   "cell_type": "code",
   "execution_count": null,
   "id": "73ffce52",
   "metadata": {},
   "outputs": [],
   "source": []
  }
 ],
 "metadata": {
  "kernelspec": {
   "display_name": "Python 3 (ipykernel)",
   "language": "python",
   "name": "python3"
  },
  "language_info": {
   "codemirror_mode": {
    "name": "ipython",
    "version": 3
   },
   "file_extension": ".py",
   "mimetype": "text/x-python",
   "name": "python",
   "nbconvert_exporter": "python",
   "pygments_lexer": "ipython3",
   "version": "3.10.4"
  }
 },
 "nbformat": 4,
 "nbformat_minor": 5
}
