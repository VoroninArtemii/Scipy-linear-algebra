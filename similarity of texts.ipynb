{
 "cells": [
  {
   "cell_type": "code",
   "execution_count": 1,
   "id": "6fb407ec",
   "metadata": {},
   "outputs": [],
   "source": [
    "from numpy import *\n",
    "from scipy.spatial.distance import *\n",
    "from re import *\n",
    "file=open('sentences.txt', 'r')\n",
    "arr=array([])\n",
    "dpsize=[0]\n",
    "dic={}\n",
    "x=0\n",
    "for line in file:\n",
    "    line=line.lower()\n",
    "    line=split('[^a-z]', line)\n",
    "    line=array(line)\n",
    "    line=delete(line, where(line==''))\n",
    "    arr=append(arr, line)\n",
    "    for i in line:\n",
    "        if i in dic:\n",
    "            dic[i]=dic[i]+1\n",
    "        else:\n",
    "            dic[i]=1;\n",
    "    dpsize.append(len(line)+dpsize[len(dpsize)-1])\n",
    "    x=x+1\n",
    "matrix=ones((22, len(dic)))\n",
    "for i in range(22):\n",
    "    r=0\n",
    "    for j in dic:\n",
    "        s=0\n",
    "        for k in range(dpsize[i], dpsize[i+1]):\n",
    "            if j==arr[k]:\n",
    "                s=s+1\n",
    "        matrix[i][r]=s\n",
    "        r=r+1\n",
    "min1=1\n",
    "for i in range(1, 22):\n",
    "    if cosine(matrix[0], matrix[i])<min1:\n",
    "        min1=cosine(matrix[0], matrix[i])\n",
    "        i1=i\n",
    "min2=1\n",
    "for i in range(1, 22):\n",
    "    if cosine(matrix[0], matrix[i])<min2 and i1!=i:\n",
    "        min2=cosine(matrix[0], matrix[i])\n",
    "        i2=i\n",
    "f=open(\"similarity of texts.txt\", \"w\")\n",
    "f.write(str(i1))\n",
    "f.write(' ')\n",
    "f.write(str(i2))\n",
    "file.close()\n",
    "f.close()"
   ]
  },
  {
   "cell_type": "code",
   "execution_count": null,
   "id": "b37e56c9",
   "metadata": {},
   "outputs": [],
   "source": []
  }
 ],
 "metadata": {
  "kernelspec": {
   "display_name": "Python 3 (ipykernel)",
   "language": "python",
   "name": "python3"
  },
  "language_info": {
   "codemirror_mode": {
    "name": "ipython",
    "version": 3
   },
   "file_extension": ".py",
   "mimetype": "text/x-python",
   "name": "python",
   "nbconvert_exporter": "python",
   "pygments_lexer": "ipython3",
   "version": "3.10.4"
  }
 },
 "nbformat": 4,
 "nbformat_minor": 5
}
